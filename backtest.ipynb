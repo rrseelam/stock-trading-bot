{
 "cells": [
  {
   "cell_type": "code",
   "execution_count": 7,
   "metadata": {},
   "outputs": [],
   "source": [
    "import pandas as pd\n",
    "from backtesting import Strategy,Backtest\n",
    "from backtesting.lib import crossover\n",
    "import talib\n",
    "import yfinance as yf"
   ]
  },
  {
   "cell_type": "code",
   "execution_count": 8,
   "metadata": {},
   "outputs": [],
   "source": [
    "def SMAC_Backtesting(values,n):\n",
    "    \"\"\"\n",
    "    Returns simple moving average of (values) for the past (n) days\n",
    "    \"\"\"\n",
    "    close = pd.Series(values)\n",
    "    return talib.SMA(close,timeperiod=n)\n"
   ]
  },
  {
   "cell_type": "code",
   "execution_count": 9,
   "metadata": {},
   "outputs": [],
   "source": [
    "class SMAC(Strategy):\n",
    "    # define short and long moving average timeframes\n",
    "    n1 = 5\n",
    "    n2 = 15\n",
    "\n",
    "    def init(self):\n",
    "        #compute moving averages\n",
    "        self.sma1 = self.I(SMAC_Backtesting, self.data.Close, self.n1)\n",
    "        self.sma2 = self.I(SMAC_Backtesting, self.data.Close, self.n2)\n",
    "\n",
    "    def next(self):\n",
    "        if crossover(self.sma1,self.sma2):\n",
    "            #self.position.close()\n",
    "            self.buy()\n",
    "        \n",
    "        elif crossover(self.sma2,self.sma1):\n",
    "            self.position.close()\n",
    "           # self.sell()\n",
    "\n",
    "\n"
   ]
  },
  {
   "cell_type": "code",
   "execution_count": 10,
   "metadata": {},
   "outputs": [],
   "source": [
    "stock = yf.Ticker(\"VOO\")\n",
    "data = stock.history(period=\"1y\",interval =\"1d\")"
   ]
  },
  {
   "cell_type": "code",
   "execution_count": 11,
   "metadata": {},
   "outputs": [],
   "source": [
    "bt = Backtest(data,SMAC,cash=2000,commission=0)"
   ]
  },
  {
   "cell_type": "code",
   "execution_count": 6,
   "metadata": {},
   "outputs": [
    {
     "data": {
      "text/plain": [
       "Start                     2021-05-21 00:00:00\n",
       "End                       2022-05-20 00:00:00\n",
       "Duration                    364 days 00:00:00\n",
       "Exposure Time [%]                   51.383399\n",
       "Equity Final [$]                  2136.272698\n",
       "Equity Peak [$]                   2200.150356\n",
       "Return [%]                           6.813635\n",
       "Buy & Hold Return [%]               -4.854439\n",
       "Return (Ann.) [%]                     6.78581\n",
       "Volatility (Ann.) [%]                8.679567\n",
       "Sharpe Ratio                         0.781814\n",
       "Sortino Ratio                        1.181422\n",
       "Calmar Ratio                         1.491618\n",
       "Max. Drawdown [%]                   -4.549296\n",
       "Avg. Drawdown [%]                   -1.186269\n",
       "Max. Drawdown Duration      183 days 00:00:00\n",
       "Avg. Drawdown Duration       25 days 00:00:00\n",
       "# Trades                                    8\n",
       "Win Rate [%]                             62.5\n",
       "Best Trade [%]                       5.699772\n",
       "Worst Trade [%]                     -2.640686\n",
       "Avg. Trade [%]                       0.786126\n",
       "Max. Trade Duration          46 days 00:00:00\n",
       "Avg. Trade Duration          22 days 00:00:00\n",
       "Profit Factor                        2.939249\n",
       "Expectancy [%]                       0.810834\n",
       "SQN                                  1.030412\n",
       "_strategy                                SMAC\n",
       "_equity_curve                             ...\n",
       "_trades                      Size  EntryBa...\n",
       "dtype: object"
      ]
     },
     "execution_count": 6,
     "metadata": {},
     "output_type": "execute_result"
    }
   ],
   "source": [
    "stats = bt.run()\n",
    "stats"
   ]
  },
  {
   "cell_type": "code",
   "execution_count": 12,
   "metadata": {},
   "outputs": [
    {
     "name": "stderr",
     "output_type": "stream",
     "text": [
      "                                               \r"
     ]
    },
    {
     "data": {
      "text/plain": [
       "Start                     2021-05-21 00:00:00\n",
       "End                       2022-05-20 00:00:00\n",
       "Duration                    364 days 00:00:00\n",
       "Exposure Time [%]                   51.383399\n",
       "Equity Final [$]                   2136.27285\n",
       "Equity Peak [$]                   2200.150509\n",
       "Return [%]                           6.813643\n",
       "Buy & Hold Return [%]               -4.854446\n",
       "Return (Ann.) [%]                    6.785817\n",
       "Volatility (Ann.) [%]                8.679567\n",
       "Sharpe Ratio                         0.781815\n",
       "Sortino Ratio                        1.181424\n",
       "Calmar Ratio                         1.491619\n",
       "Max. Drawdown [%]                   -4.549296\n",
       "Avg. Drawdown [%]                   -1.186269\n",
       "Max. Drawdown Duration      183 days 00:00:00\n",
       "Avg. Drawdown Duration       25 days 00:00:00\n",
       "# Trades                                    8\n",
       "Win Rate [%]                             62.5\n",
       "Best Trade [%]                       5.699772\n",
       "Worst Trade [%]                     -2.640686\n",
       "Avg. Trade [%]                       0.786127\n",
       "Max. Trade Duration          46 days 00:00:00\n",
       "Avg. Trade Duration          22 days 00:00:00\n",
       "Profit Factor                        2.939251\n",
       "Expectancy [%]                       0.810835\n",
       "SQN                                  1.030413\n",
       "_strategy                    SMAC(n1=5,n2=15)\n",
       "_equity_curve                             ...\n",
       "_trades                      Size  EntryBa...\n",
       "dtype: object"
      ]
     },
     "execution_count": 12,
     "metadata": {},
     "output_type": "execute_result"
    }
   ],
   "source": [
    "\n",
    "optimize = bt.optimize(n1=range(5, 30, 5),\n",
    "                    n2=range(10, 70, 5),\n",
    "                    maximize='Equity Final [$]',\n",
    "                    constraint=lambda param: param.n1 < param.n2)\n",
    "optimize\n"
   ]
  },
  {
   "cell_type": "code",
   "execution_count": 38,
   "metadata": {},
   "outputs": [
    {
     "data": {
      "text/html": [
       "<div style=\"display: table;\"><div style=\"display: table-row;\"><div style=\"display: table-cell;\"><b title=\"bokeh.models.layouts.Row\">Row</b>(</div><div style=\"display: table-cell;\">id&nbsp;=&nbsp;'5697', <span id=\"6311\" style=\"cursor: pointer;\">&hellip;)</span></div></div><div class=\"6310\" style=\"display: none;\"><div style=\"display: table-cell;\"></div><div style=\"display: table-cell;\">align&nbsp;=&nbsp;'start',</div></div><div class=\"6310\" style=\"display: none;\"><div style=\"display: table-cell;\"></div><div style=\"display: table-cell;\">aspect_ratio&nbsp;=&nbsp;None,</div></div><div class=\"6310\" style=\"display: none;\"><div style=\"display: table-cell;\"></div><div style=\"display: table-cell;\">background&nbsp;=&nbsp;None,</div></div><div class=\"6310\" style=\"display: none;\"><div style=\"display: table-cell;\"></div><div style=\"display: table-cell;\">children&nbsp;=&nbsp;[GridBox(id='5694', ...), ToolbarBox(id='5696', ...)],</div></div><div class=\"6310\" style=\"display: none;\"><div style=\"display: table-cell;\"></div><div style=\"display: table-cell;\">cols&nbsp;=&nbsp;'auto',</div></div><div class=\"6310\" style=\"display: none;\"><div style=\"display: table-cell;\"></div><div style=\"display: table-cell;\">css_classes&nbsp;=&nbsp;[],</div></div><div class=\"6310\" style=\"display: none;\"><div style=\"display: table-cell;\"></div><div style=\"display: table-cell;\">disabled&nbsp;=&nbsp;False,</div></div><div class=\"6310\" style=\"display: none;\"><div style=\"display: table-cell;\"></div><div style=\"display: table-cell;\">height&nbsp;=&nbsp;None,</div></div><div class=\"6310\" style=\"display: none;\"><div style=\"display: table-cell;\"></div><div style=\"display: table-cell;\">height_policy&nbsp;=&nbsp;'auto',</div></div><div class=\"6310\" style=\"display: none;\"><div style=\"display: table-cell;\"></div><div style=\"display: table-cell;\">js_event_callbacks&nbsp;=&nbsp;{},</div></div><div class=\"6310\" style=\"display: none;\"><div style=\"display: table-cell;\"></div><div style=\"display: table-cell;\">js_property_callbacks&nbsp;=&nbsp;{},</div></div><div class=\"6310\" style=\"display: none;\"><div style=\"display: table-cell;\"></div><div style=\"display: table-cell;\">margin&nbsp;=&nbsp;(0, 0, 0, 0),</div></div><div class=\"6310\" style=\"display: none;\"><div style=\"display: table-cell;\"></div><div style=\"display: table-cell;\">max_height&nbsp;=&nbsp;None,</div></div><div class=\"6310\" style=\"display: none;\"><div style=\"display: table-cell;\"></div><div style=\"display: table-cell;\">max_width&nbsp;=&nbsp;None,</div></div><div class=\"6310\" style=\"display: none;\"><div style=\"display: table-cell;\"></div><div style=\"display: table-cell;\">min_height&nbsp;=&nbsp;None,</div></div><div class=\"6310\" style=\"display: none;\"><div style=\"display: table-cell;\"></div><div style=\"display: table-cell;\">min_width&nbsp;=&nbsp;None,</div></div><div class=\"6310\" style=\"display: none;\"><div style=\"display: table-cell;\"></div><div style=\"display: table-cell;\">name&nbsp;=&nbsp;None,</div></div><div class=\"6310\" style=\"display: none;\"><div style=\"display: table-cell;\"></div><div style=\"display: table-cell;\">sizing_mode&nbsp;=&nbsp;'stretch_width',</div></div><div class=\"6310\" style=\"display: none;\"><div style=\"display: table-cell;\"></div><div style=\"display: table-cell;\">spacing&nbsp;=&nbsp;0,</div></div><div class=\"6310\" style=\"display: none;\"><div style=\"display: table-cell;\"></div><div style=\"display: table-cell;\">subscribed_events&nbsp;=&nbsp;[],</div></div><div class=\"6310\" style=\"display: none;\"><div style=\"display: table-cell;\"></div><div style=\"display: table-cell;\">syncable&nbsp;=&nbsp;True,</div></div><div class=\"6310\" style=\"display: none;\"><div style=\"display: table-cell;\"></div><div style=\"display: table-cell;\">tags&nbsp;=&nbsp;[],</div></div><div class=\"6310\" style=\"display: none;\"><div style=\"display: table-cell;\"></div><div style=\"display: table-cell;\">visible&nbsp;=&nbsp;True,</div></div><div class=\"6310\" style=\"display: none;\"><div style=\"display: table-cell;\"></div><div style=\"display: table-cell;\">width&nbsp;=&nbsp;None,</div></div><div class=\"6310\" style=\"display: none;\"><div style=\"display: table-cell;\"></div><div style=\"display: table-cell;\">width_policy&nbsp;=&nbsp;'auto')</div></div></div>\n",
       "<script>\n",
       "(function() {\n",
       "  let expanded = false;\n",
       "  const ellipsis = document.getElementById(\"6311\");\n",
       "  ellipsis.addEventListener(\"click\", function() {\n",
       "    const rows = document.getElementsByClassName(\"6310\");\n",
       "    for (let i = 0; i < rows.length; i++) {\n",
       "      const el = rows[i];\n",
       "      el.style.display = expanded ? \"none\" : \"table-row\";\n",
       "    }\n",
       "    ellipsis.innerHTML = expanded ? \"&hellip;)\" : \"&lsaquo;&lsaquo;&lsaquo;\";\n",
       "    expanded = !expanded;\n",
       "  });\n",
       "})();\n",
       "</script>\n"
      ],
      "text/plain": [
       "Row(id='5697', ...)"
      ]
     },
     "execution_count": 38,
     "metadata": {},
     "output_type": "execute_result"
    }
   ],
   "source": [
    "bt.plot()"
   ]
  }
 ],
 "metadata": {
  "interpreter": {
   "hash": "369f2c481f4da34e4445cda3fffd2e751bd1c4d706f27375911949ba6bb62e1c"
  },
  "kernelspec": {
   "display_name": "Python 3.10.2 64-bit",
   "language": "python",
   "name": "python3"
  },
  "language_info": {
   "codemirror_mode": {
    "name": "ipython",
    "version": 3
   },
   "file_extension": ".py",
   "mimetype": "text/x-python",
   "name": "python",
   "nbconvert_exporter": "python",
   "pygments_lexer": "ipython3",
   "version": "3.10.2"
  },
  "orig_nbformat": 4
 },
 "nbformat": 4,
 "nbformat_minor": 2
}
